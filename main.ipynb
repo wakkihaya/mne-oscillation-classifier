{
 "cells": [
  {
   "cell_type": "markdown",
   "metadata": {
    "colab_type": "text",
    "id": "view-in-github"
   },
   "source": [
    "<a href=\"https://colab.research.google.com/github/wakkihaya/mne-oscillation-classifier/blob/main/main.ipynb\" target=\"_parent\"><img src=\"https://colab.research.google.com/assets/colab-badge.svg\" alt=\"Open In Colab\"/></a>"
   ]
  },
  {
   "cell_type": "code",
   "execution_count": 2,
   "metadata": {
    "colab": {
     "base_uri": "https://localhost:8080/"
    },
    "id": "JRfd2zlZi2af",
    "outputId": "e8df1522-02ec-4d22-fd06-081c8cbac4b5"
   },
   "outputs": [],
   "source": [
    "# This script demonstrates that it \n",
    "\n",
    "# See:// https://mne.tools/dev/auto_examples/time_frequency/time_frequency_global_field_power.html\n",
    "import os.path as op\n",
    "\n",
    "import numpy as np\n",
    "import matplotlib.pyplot as plt\n",
    "\n",
    "import mne\n",
    "from mne.datasets import somato\n",
    "from mne.baseline import rescale\n",
    "from mne.stats import bootstrap_confidence_interval"
   ]
  },
  {
   "cell_type": "code",
   "execution_count": 3,
   "metadata": {
    "colab": {
     "base_uri": "https://localhost:8080/",
     "height": 654
    },
    "id": "sShEurhojP1x",
    "outputId": "35a2d921-a2f7-41a7-c834-a67d6b88c0fe"
   },
   "outputs": [],
   "source": [
    "data_path = somato.data_path()\n",
    "subject = '01'\n",
    "task = 'somato'\n",
    "raw_fname = op.join(data_path, 'sub-{}'.format(subject), 'meg',\n",
    "                    'sub-{}_task-{}_meg.fif'.format(subject, task))\n",
    "\n",
    "# let's explore some frequency bands\n",
    "iter_freqs = [\n",
    "    ('Theta', 4, 7),\n",
    "    ('Alpha', 8, 12),\n",
    "    ('Beta', 13, 25),\n",
    "    ('Gamma', 30, 45)\n",
    "]"
   ]
  },
  {
   "cell_type": "code",
   "execution_count": 4,
   "metadata": {
    "colab": {
     "base_uri": "https://localhost:8080/"
    },
    "id": "3NNn1KSie12_",
    "outputId": "4a362e16-e23f-40e1-f0cd-735d373d9b7d"
   },
   "outputs": [
    {
     "name": "stdout",
     "output_type": "stream",
     "text": [
      "Opening raw data file /Users/wakkihaya/mne_data/MNE-somato-data/sub-01/meg/sub-01_task-somato_meg.fif...\n",
      "    Range : 237600 ... 506999 =    791.189 ...  1688.266 secs\n",
      "Ready.\n",
      "111 events found\n",
      "Event IDs: [1]\n",
      "Opening raw data file /Users/wakkihaya/mne_data/MNE-somato-data/sub-01/meg/sub-01_task-somato_meg.fif...\n",
      "    Range : 237600 ... 506999 =    791.189 ...  1688.266 secs\n",
      "Ready.\n",
      "Reading 0 ... 269399  =      0.000 ...   897.077 secs...\n",
      "Filtering raw data in 1 contiguous segment\n",
      "Setting up band-pass filter from 4 - 7 Hz\n",
      "\n",
      "FIR filter parameters\n",
      "---------------------\n",
      "Designing a one-pass, zero-phase, non-causal bandpass filter:\n",
      "- Windowed time-domain design (firwin) method\n",
      "- Hamming window with 0.0194 passband ripple and 53 dB stopband attenuation\n",
      "- Lower passband edge: 4.00\n",
      "- Lower transition bandwidth: 1.00 Hz (-6 dB cutoff frequency: 3.50 Hz)\n",
      "- Upper passband edge: 7.00 Hz\n",
      "- Upper transition bandwidth: 1.00 Hz (-6 dB cutoff frequency: 7.50 Hz)\n",
      "- Filter length: 993 samples (3.307 sec)\n",
      "\n",
      "Not setting metadata\n",
      "Not setting metadata\n",
      "111 matching events found\n",
      "No baseline correction applied\n",
      "0 projection items activated\n",
      "Loading data for 111 events and 1202 original time points ...\n",
      "0 bad epochs dropped\n",
      "Subtracting Evoked from Epochs\n",
      "[done]\n",
      "Opening raw data file /Users/wakkihaya/mne_data/MNE-somato-data/sub-01/meg/sub-01_task-somato_meg.fif...\n",
      "    Range : 237600 ... 506999 =    791.189 ...  1688.266 secs\n",
      "Ready.\n",
      "Reading 0 ... 269399  =      0.000 ...   897.077 secs...\n",
      "Filtering raw data in 1 contiguous segment\n",
      "Setting up band-pass filter from 8 - 12 Hz\n",
      "\n",
      "FIR filter parameters\n",
      "---------------------\n",
      "Designing a one-pass, zero-phase, non-causal bandpass filter:\n",
      "- Windowed time-domain design (firwin) method\n",
      "- Hamming window with 0.0194 passband ripple and 53 dB stopband attenuation\n",
      "- Lower passband edge: 8.00\n",
      "- Lower transition bandwidth: 1.00 Hz (-6 dB cutoff frequency: 7.50 Hz)\n",
      "- Upper passband edge: 12.00 Hz\n",
      "- Upper transition bandwidth: 1.00 Hz (-6 dB cutoff frequency: 12.50 Hz)\n",
      "- Filter length: 993 samples (3.307 sec)\n",
      "\n",
      "Not setting metadata\n",
      "Not setting metadata\n",
      "111 matching events found\n",
      "No baseline correction applied\n",
      "0 projection items activated\n",
      "Loading data for 111 events and 1202 original time points ...\n",
      "0 bad epochs dropped\n",
      "Subtracting Evoked from Epochs\n",
      "[done]\n",
      "Opening raw data file /Users/wakkihaya/mne_data/MNE-somato-data/sub-01/meg/sub-01_task-somato_meg.fif...\n",
      "    Range : 237600 ... 506999 =    791.189 ...  1688.266 secs\n",
      "Ready.\n",
      "Reading 0 ... 269399  =      0.000 ...   897.077 secs...\n",
      "Filtering raw data in 1 contiguous segment\n",
      "Setting up band-pass filter from 13 - 25 Hz\n",
      "\n",
      "FIR filter parameters\n",
      "---------------------\n",
      "Designing a one-pass, zero-phase, non-causal bandpass filter:\n",
      "- Windowed time-domain design (firwin) method\n",
      "- Hamming window with 0.0194 passband ripple and 53 dB stopband attenuation\n",
      "- Lower passband edge: 13.00\n",
      "- Lower transition bandwidth: 1.00 Hz (-6 dB cutoff frequency: 12.50 Hz)\n",
      "- Upper passband edge: 25.00 Hz\n",
      "- Upper transition bandwidth: 1.00 Hz (-6 dB cutoff frequency: 25.50 Hz)\n",
      "- Filter length: 993 samples (3.307 sec)\n",
      "\n",
      "Not setting metadata\n",
      "Not setting metadata\n",
      "111 matching events found\n",
      "No baseline correction applied\n",
      "0 projection items activated\n",
      "Loading data for 111 events and 1202 original time points ...\n",
      "0 bad epochs dropped\n",
      "Subtracting Evoked from Epochs\n",
      "[done]\n",
      "Opening raw data file /Users/wakkihaya/mne_data/MNE-somato-data/sub-01/meg/sub-01_task-somato_meg.fif...\n",
      "    Range : 237600 ... 506999 =    791.189 ...  1688.266 secs\n",
      "Ready.\n",
      "Reading 0 ... 269399  =      0.000 ...   897.077 secs...\n",
      "Filtering raw data in 1 contiguous segment\n",
      "Setting up band-pass filter from 30 - 45 Hz\n",
      "\n",
      "FIR filter parameters\n",
      "---------------------\n",
      "Designing a one-pass, zero-phase, non-causal bandpass filter:\n",
      "- Windowed time-domain design (firwin) method\n",
      "- Hamming window with 0.0194 passband ripple and 53 dB stopband attenuation\n",
      "- Lower passband edge: 30.00\n",
      "- Lower transition bandwidth: 1.00 Hz (-6 dB cutoff frequency: 29.50 Hz)\n",
      "- Upper passband edge: 45.00 Hz\n",
      "- Upper transition bandwidth: 1.00 Hz (-6 dB cutoff frequency: 45.50 Hz)\n",
      "- Filter length: 993 samples (3.307 sec)\n",
      "\n",
      "Not setting metadata\n",
      "Not setting metadata\n",
      "111 matching events found\n",
      "No baseline correction applied\n",
      "0 projection items activated\n",
      "Loading data for 111 events and 1202 original time points ...\n",
      "0 bad epochs dropped\n",
      "Subtracting Evoked from Epochs\n",
      "[done]\n"
     ]
    }
   ],
   "source": [
    "# set epoching parameters\n",
    "event_id, tmin, tmax = 1, -1., 3.\n",
    "baseline = None\n",
    "\n",
    "# get the header to extract events\n",
    "raw = mne.io.read_raw_fif(raw_fname)\n",
    "events = mne.find_events(raw, stim_channel='STI 014')\n",
    "\n",
    "frequency_map = list()\n",
    "\n",
    "for band, fmin, fmax in iter_freqs:\n",
    "    # (re)load the data to save memory\n",
    "    raw = mne.io.read_raw_fif(raw_fname)\n",
    "    raw.pick_types(meg='grad', eeg=True, eog=False)  \n",
    "    raw.load_data()\n",
    "    \n",
    "\n",
    "    # bandpass filter\n",
    "    raw.filter(fmin, fmax, n_jobs=1,  # use more jobs to speed up.\n",
    "               l_trans_bandwidth=1,  # make sure filter params are the same\n",
    "               h_trans_bandwidth=1)  # in each band and skip \"auto\" option.\n",
    "\n",
    "    # epoch\n",
    "    epochs = mne.Epochs(raw, events, event_id, tmin, tmax, baseline=baseline,\n",
    "                        reject=dict(grad=4000e-13),\n",
    "                        preload=True)\n",
    "    # remove evoked response\n",
    "    epochs.subtract_evoked()\n",
    "\n",
    "    # get analytic signal (envelope)\n",
    "    epochs.apply_hilbert(envelope=True)\n",
    "    frequency_map.append(((band, fmin, fmax), epochs.average()))\n",
    "    del epochs\n",
    "del raw"
   ]
  },
  {
   "cell_type": "code",
   "execution_count": 5,
   "metadata": {
    "colab": {
     "base_uri": "https://localhost:8080/",
     "height": 789
    },
    "id": "GyjX67G2ghIY",
    "outputId": "07fcdb8a-7224-41cb-94f7-918f62cc3fa1"
   },
   "outputs": [
    {
     "name": "stdout",
     "output_type": "stream",
     "text": [
      "Applying baseline correction (mode: mean)\n",
      "Applying baseline correction (mode: mean)\n",
      "Applying baseline correction (mode: mean)\n",
      "Applying baseline correction (mode: mean)\n",
      "Applying baseline correction (mode: mean)\n",
      "Applying baseline correction (mode: mean)\n",
      "Applying baseline correction (mode: mean)\n",
      "Applying baseline correction (mode: mean)\n",
      "Applying baseline correction (mode: mean)\n",
      "Applying baseline correction (mode: mean)\n",
      "Applying baseline correction (mode: mean)\n",
      "Applying baseline correction (mode: mean)\n"
     ]
    },
    {
     "data": {
      "text/plain": [
       "Text(0.5, 0, 'Time [ms]')"
      ]
     },
     "execution_count": 5,
     "metadata": {},
     "output_type": "execute_result"
    },
    {
     "data": {
      "image/png": "[encoded data removed]",
      "text/plain": [
       "<Figure size 720x504 with 4 Axes>"
      ]
     },
     "metadata": {
      "needs_background": "light"
     },
     "output_type": "display_data"
    }
   ],
   "source": [
    "# Helper function for plotting spread\n",
    "def stat_fun(x):\n",
    "    \"\"\"Return sum of squares.\"\"\"\n",
    "    return np.sum(x ** 2, axis=0)\n",
    "\n",
    "\n",
    "# Plot\n",
    "fig, axes = plt.subplots(4, 1, figsize=(10, 7), sharex=True, sharey=True)\n",
    "colors = plt.get_cmap('winter_r')(np.linspace(0, 1, 4))\n",
    "for ((freq_name, fmin, fmax), average), color, ax in zip(\n",
    "        frequency_map, colors, axes.ravel()[::-1]):\n",
    "    times = average.times * 1e3\n",
    "    gfp = np.sum(average.data ** 2, axis=0)\n",
    "    gfp = mne.baseline.rescale(gfp, times, baseline=(None, 0))\n",
    "    ax.plot(times, gfp, label=freq_name, color=color, linewidth=2.5)\n",
    "    ax.axhline(0, linestyle='--', color='grey', linewidth=2)\n",
    "    ci_low, ci_up = bootstrap_confidence_interval(average.data, random_state=0,\n",
    "                                                  stat_fun=stat_fun)\n",
    "    ci_low = rescale(ci_low, average.times, baseline=(None, 0))\n",
    "    ci_up = rescale(ci_up, average.times, baseline=(None, 0))\n",
    "    ax.fill_between(times, gfp + ci_up, gfp - ci_low, color=color, alpha=0.3)\n",
    "    ax.grid(True)\n",
    "    ax.set_ylabel('GFP')\n",
    "    ax.annotate('%s (%d-%dHz)' % (freq_name, fmin, fmax),\n",
    "                xy=(0.95, 0.8),\n",
    "                horizontalalignment='right',\n",
    "                xycoords='axes fraction')\n",
    "    ax.set_xlim(-1000, 3000)\n",
    "\n",
    "axes.ravel()[-1].set_xlabel('Time [ms]')"
   ]
  },
  {
   "cell_type": "code",
   "execution_count": 6,
   "metadata": {
    "id": "IXo5b8CXtQ_z"
   },
   "outputs": [
    {
     "name": "stdout",
     "output_type": "stream",
     "text": [
      "Opening raw data file /Users/wakkihaya/mne_data/MNE-somato-data/sub-01/meg/sub-01_task-somato_meg.fif...\n",
      "    Range : 237600 ... 506999 =    791.189 ...  1688.266 secs\n",
      "Ready.\n",
      "111 events found\n",
      "Event IDs: [1]\n",
      "Reading 0 ... 269399  =      0.000 ...   897.077 secs...\n",
      "Filtering raw data in 1 contiguous segment\n",
      "Setting up band-pass filter from 8 - 12 Hz\n",
      "\n",
      "FIR filter parameters\n",
      "---------------------\n",
      "Designing a one-pass, zero-phase, non-causal bandpass filter:\n",
      "- Windowed time-domain design (firwin) method\n",
      "- Hamming window with 0.0194 passband ripple and 53 dB stopband attenuation\n",
      "- Lower passband edge: 8.00\n",
      "- Lower transition bandwidth: 1.00 Hz (-6 dB cutoff frequency: 7.50 Hz)\n",
      "- Upper passband edge: 12.00 Hz\n",
      "- Upper transition bandwidth: 1.00 Hz (-6 dB cutoff frequency: 12.50 Hz)\n",
      "- Filter length: 993 samples (3.307 sec)\n",
      "\n",
      "Not setting metadata\n",
      "Not setting metadata\n",
      "111 matching events found\n",
      "No baseline correction applied\n",
      "0 projection items activated\n",
      "Loading data for 111 events and 1202 original time points ...\n",
      "0 bad epochs dropped\n",
      "Subtracting Evoked from Epochs\n",
      "[done]\n",
      "Opening raw data file /Users/wakkihaya/mne_data/MNE-somato-data/sub-01/meg/sub-01_task-somato_meg.fif...\n",
      "    Range : 237600 ... 506999 =    791.189 ...  1688.266 secs\n",
      "Ready.\n",
      "111 events found\n",
      "Event IDs: [1]\n",
      "Reading 0 ... 269399  =      0.000 ...   897.077 secs...\n",
      "Filtering raw data in 1 contiguous segment\n",
      "Setting up band-pass filter from 13 - 25 Hz\n",
      "\n",
      "FIR filter parameters\n",
      "---------------------\n",
      "Designing a one-pass, zero-phase, non-causal bandpass filter:\n",
      "- Windowed time-domain design (firwin) method\n",
      "- Hamming window with 0.0194 passband ripple and 53 dB stopband attenuation\n",
      "- Lower passband edge: 13.00\n",
      "- Lower transition bandwidth: 1.00 Hz (-6 dB cutoff frequency: 12.50 Hz)\n",
      "- Upper passband edge: 25.00 Hz\n",
      "- Upper transition bandwidth: 1.00 Hz (-6 dB cutoff frequency: 25.50 Hz)\n",
      "- Filter length: 993 samples (3.307 sec)\n",
      "\n",
      "Not setting metadata\n",
      "Not setting metadata\n",
      "111 matching events found\n",
      "No baseline correction applied\n",
      "0 projection items activated\n",
      "Loading data for 111 events and 1202 original time points ...\n",
      "0 bad epochs dropped\n",
      "Subtracting Evoked from Epochs\n",
      "[done]\n"
     ]
    },
    {
     "data": {
      "text/html": [
       "\n",
       "<table class=\"table table-hover\">\n",
       "    <tr>\n",
       "        <th>Number of events</th>\n",
       "        <td>111</td>\n",
       "    </tr>\n",
       "    <tr>\n",
       "        <th>Events</th>\n",
       "        <td>1: 111<br></td>\n",
       "    </tr>\n",
       "    <tr>\n",
       "        <th>Time range</th>\n",
       "        <td>-0.999 – 3.000 sec</td>\n",
       "    </tr>\n",
       "    <tr>\n",
       "        <th>Baseline</th>\n",
       "        <td>off</td>\n",
       "    </tr>\n",
       "</table>\n"
      ],
      "text/plain": [
       "<Epochs |  111 events (all good), -0.998976 - 3.00026 sec, baseline off, ~210.9 MB, data loaded,\n",
       " '1': 111>"
      ]
     },
     "execution_count": 6,
     "metadata": {},
     "output_type": "execute_result"
    }
   ],
   "source": [
    "# Apply machine learning: Classify it's alpha or not.\n",
    "# Train data : alpha and beta data filitering by fliter command.\n",
    "# Test data: random data not filtering.\n",
    "alpha_freq = iter_freqs[1]\n",
    "raw = mne.io.read_raw_fif(raw_fname)\n",
    "events = mne.find_events(raw, stim_channel='STI 014')\n",
    "raw.pick_types(meg='grad', eeg=True, eog=False)  \n",
    "raw.load_data()\n",
    "\n",
    " # bandpass filter for alpha\n",
    "raw.filter(alpha_freq[1], alpha_freq[2], n_jobs=1,  # use more jobs to speed up.\n",
    "             l_trans_bandwidth=1,  # make sure filter params are the same\n",
    "              h_trans_bandwidth=1)  # in each band and skip \"auto\" option.\n",
    "\n",
    "# epoch with alpha data.\n",
    "epochs_train_alpha = mne.Epochs(raw, events, event_id, tmin, tmax, baseline=baseline,\n",
    "                        reject=dict(grad=4000e-13),\n",
    "                        preload=True)\n",
    "# remove evoked response\n",
    "epochs_train_alpha.subtract_evoked()\n",
    "\n",
    "del raw\n",
    "\n",
    "beta_freq = iter_freqs[2]\n",
    "raw = mne.io.read_raw_fif(raw_fname)\n",
    "events = mne.find_events(raw, stim_channel='STI 014')\n",
    "raw.pick_types(meg='grad', eeg=True, eog=False)  \n",
    "raw.load_data()\n",
    "\n",
    "# bandpass filter for beta\n",
    "raw.filter(beta_freq[1], beta_freq[2], n_jobs=1,  # use more jobs to speed up.\n",
    "             l_trans_bandwidth=1,  # make sure filter params are the same\n",
    "              h_trans_bandwidth=1)  # in each band and skip \"auto\" option.\n",
    "\n",
    "# epoch with beta data.\n",
    "epochs_train_beta = mne.Epochs(raw, events, event_id, tmin, tmax, baseline=baseline,\n",
    "                        reject=dict(grad=4000e-13),\n",
    "                        preload=True)\n",
    "\n",
    "# remove evoked response\n",
    "epochs_train_beta.subtract_evoked()\n",
    "\n",
    "del raw\n"
   ]
  },
  {
   "cell_type": "code",
   "execution_count": 25,
   "metadata": {
    "id": "lgqvZxCt1xb_"
   },
   "outputs": [],
   "source": [
    "epochs_train_alpha_data=epochs_train_alpha.get_data() #[n_epochs, n_channels, n_times]\n",
    "epochs_train_beta_data=epochs_train_beta.get_data()\n",
    "class0 = np.zeros((epochs_train_alpha_data.shape[0],1))\n",
    "class1 = np.ones((epochs_train_beta_data.shape[0],1))\n",
    "epochs_train_alpha_data=epochs_train_alpha_data.reshape(len(class0), -1)\n",
    "epochs_train_beta_data= epochs_train_beta_data.reshape(len(class1), -1)"
   ]
  },
  {
   "cell_type": "code",
   "execution_count": 26,
   "metadata": {},
   "outputs": [],
   "source": [
    "X = np.concatenate((epochs_train_alpha_data,epochs_train_beta_data), axis= 0)\n",
    "Y = np.concatenate((class0, class1), axis =0)"
   ]
  },
  {
   "cell_type": "code",
   "execution_count": 27,
   "metadata": {},
   "outputs": [],
   "source": [
    "from sklearn.model_selection import train_test_split\n",
    "X_train, X_test, Y_train, Y_test = train_test_split(X, Y)"
   ]
  },
  {
   "cell_type": "code",
   "execution_count": 28,
   "metadata": {},
   "outputs": [
    {
     "name": "stderr",
     "output_type": "stream",
     "text": [
      "/Users/wakkihaya/.pyenv/versions/3.9.4/lib/python3.9/site-packages/sklearn/utils/validation.py:72: DataConversionWarning: A column-vector y was passed when a 1d array was expected. Please change the shape of y to (n_samples, ), for example using ravel().\n",
      "  return f(**kwargs)\n"
     ]
    },
    {
     "data": {
      "text/plain": [
       "SVC()"
      ]
     },
     "execution_count": 28,
     "metadata": {},
     "output_type": "execute_result"
    }
   ],
   "source": [
    "from sklearn import svm\n",
    "\n",
    "clf = svm.SVC()\n",
    "clf.fit(X_train,Y_train)"
   ]
  },
  {
   "cell_type": "code",
   "execution_count": 29,
   "metadata": {},
   "outputs": [
    {
     "name": "stdout",
     "output_type": "stream",
     "text": [
      "[0. 1. 0. 1. 1. 1. 1. 1. 1. 0. 1. 0. 1. 0. 0. 0. 1. 0. 1. 1. 1. 1. 0. 0.\n",
      " 0. 1. 0. 0. 0. 1. 0. 0. 0. 1. 0. 0. 0. 1. 0. 0. 0. 0. 0. 1. 1. 1. 1. 1.\n",
      " 1. 1. 0. 1. 1. 0. 0. 0.]\n"
     ]
    }
   ],
   "source": [
    "y_hat = clf.predict(X_test)\n",
    "print(y_hat)"
   ]
  },
  {
   "cell_type": "code",
   "execution_count": 30,
   "metadata": {},
   "outputs": [
    {
     "data": {
      "text/plain": [
       "0.8571428571428571"
      ]
     },
     "execution_count": 30,
     "metadata": {},
     "output_type": "execute_result"
    }
   ],
   "source": [
    "from sklearn.metrics import accuracy_score\n",
    "accuracy_score(Y_test, y_hat)"
   ]
  },
  {
   "cell_type": "code",
   "execution_count": null,
   "metadata": {},
   "outputs": [],
   "source": []
  },
  {
   "cell_type": "code",
   "execution_count": null,
   "metadata": {
    "id": "cV-rxTpR12jj"
   },
   "outputs": [],
   "source": []
  },
  {
   "cell_type": "code",
   "execution_count": null,
   "metadata": {},
   "outputs": [],
   "source": []
  },
  {
   "cell_type": "code",
   "execution_count": null,
   "metadata": {},
   "outputs": [],
   "source": []
  },
  {
   "cell_type": "code",
   "execution_count": null,
   "metadata": {},
   "outputs": [],
   "source": []
  }
 ],
 "metadata": {
  "colab": {
   "authorship_tag": "ABX9TyMJDoOsUVRaPIe82wrCVR92",
   "collapsed_sections": [],
   "include_colab_link": true,
   "name": "mne-ocsillation-classifier.ipynb",
   "provenance": []
  },
  "kernelspec": {
   "display_name": "Python 3",
   "language": "python",
   "name": "python3"
  },
  "language_info": {
   "codemirror_mode": {
    "name": "ipython",
    "version": 3
   },
   "file_extension": ".py",
   "mimetype": "text/x-python",
   "name": "python",
   "nbconvert_exporter": "python",
   "pygments_lexer": "ipython3",
   "version": "3.9.4"
  }
 },
 "nbformat": 4,
 "nbformat_minor": 1
}
