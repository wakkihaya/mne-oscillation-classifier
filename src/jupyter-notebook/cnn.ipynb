{
 "cells": [
  {
   "cell_type": "code",
   "execution_count": 1,
   "metadata": {},
   "outputs": [],
   "source": [
    "import os.path as op\n",
    "\n",
    "import numpy as np\n",
    "import matplotlib.pyplot as plt\n",
    "\n",
    "import mne\n",
    "from mne.datasets import somato\n",
    "from mne.baseline import rescale\n",
    "from mne.stats import bootstrap_confidence_interval\n",
    "from sklearn.model_selection import train_test_split\n",
    "from sklearn import svm\n",
    "from sklearn.metrics import accuracy_score\n",
    "from sklearn.preprocessing import RobustScaler\n",
    "\n",
    "import torch\n",
    "import torch.nn as nn\n",
    "import torchvision.transforms\n",
    "import matplotlib.pyplot as plt\n",
    "\n",
    "from collections import OrderedDict\n",
    "from pylab import rcParams\n"
   ]
  },
  {
   "cell_type": "code",
   "execution_count": 4,
   "metadata": {},
   "outputs": [],
   "source": [
    "data_path = somato.data_path()\n",
    "subject = '01'\n",
    "task = 'somato'\n",
    "event_id, tmin, tmax = 1, -1., 3.\n",
    "baseline = None\n",
    "raw_fname = op.join(data_path, 'sub-{}'.format(subject), 'meg',\n",
    "                    'sub-{}_task-{}_meg.fif'.format(subject, task))\n",
    "\n",
    "# let's explore some frequency bands\n",
    "iter_freqs = [\n",
    "    ('Theta', 4, 7),\n",
    "    ('Alpha', 8, 12),\n",
    "    ('Beta', 13, 25),\n",
    "    ('Gamma', 30, 45)\n",
    "]"
   ]
  },
  {
   "cell_type": "code",
   "execution_count": 5,
   "metadata": {},
   "outputs": [
    {
     "name": "stdout",
     "output_type": "stream",
     "text": [
      "Opening raw data file /Users/wakkihaya/mne_data/MNE-somato-data/sub-01/meg/sub-01_task-somato_meg.fif...\n",
      "    Range : 237600 ... 506999 =    791.189 ...  1688.266 secs\n",
      "Ready.\n",
      "111 events found\n",
      "Event IDs: [1]\n",
      "Reading 0 ... 269399  =      0.000 ...   897.077 secs...\n",
      "Filtering raw data in 1 contiguous segment\n",
      "Setting up band-pass filter from 8 - 12 Hz\n",
      "\n",
      "FIR filter parameters\n",
      "---------------------\n",
      "Designing a one-pass, zero-phase, non-causal bandpass filter:\n",
      "- Windowed time-domain design (firwin) method\n",
      "- Hamming window with 0.0194 passband ripple and 53 dB stopband attenuation\n",
      "- Lower passband edge: 8.00\n",
      "- Lower transition bandwidth: 1.00 Hz (-6 dB cutoff frequency: 7.50 Hz)\n",
      "- Upper passband edge: 12.00 Hz\n",
      "- Upper transition bandwidth: 1.00 Hz (-6 dB cutoff frequency: 12.50 Hz)\n",
      "- Filter length: 993 samples (3.307 sec)\n",
      "\n",
      "Not setting metadata\n",
      "Not setting metadata\n",
      "111 matching events found\n",
      "No baseline correction applied\n",
      "0 projection items activated\n",
      "Loading data for 111 events and 1202 original time points ...\n",
      "0 bad epochs dropped\n",
      "Subtracting Evoked from Epochs\n",
      "[done]\n",
      "Opening raw data file /Users/wakkihaya/mne_data/MNE-somato-data/sub-01/meg/sub-01_task-somato_meg.fif...\n",
      "    Range : 237600 ... 506999 =    791.189 ...  1688.266 secs\n",
      "Ready.\n",
      "111 events found\n",
      "Event IDs: [1]\n",
      "Reading 0 ... 269399  =      0.000 ...   897.077 secs...\n",
      "Filtering raw data in 1 contiguous segment\n",
      "Setting up band-pass filter from 13 - 25 Hz\n",
      "\n",
      "FIR filter parameters\n",
      "---------------------\n",
      "Designing a one-pass, zero-phase, non-causal bandpass filter:\n",
      "- Windowed time-domain design (firwin) method\n",
      "- Hamming window with 0.0194 passband ripple and 53 dB stopband attenuation\n",
      "- Lower passband edge: 13.00\n",
      "- Lower transition bandwidth: 1.00 Hz (-6 dB cutoff frequency: 12.50 Hz)\n",
      "- Upper passband edge: 25.00 Hz\n",
      "- Upper transition bandwidth: 1.00 Hz (-6 dB cutoff frequency: 25.50 Hz)\n",
      "- Filter length: 993 samples (3.307 sec)\n",
      "\n",
      "Not setting metadata\n",
      "Not setting metadata\n",
      "111 matching events found\n",
      "No baseline correction applied\n",
      "0 projection items activated\n",
      "Loading data for 111 events and 1202 original time points ...\n",
      "0 bad epochs dropped\n",
      "Subtracting Evoked from Epochs\n",
      "[done]\n"
     ]
    }
   ],
   "source": [
    "# Apply machine learning: Classify it's alpha or beta.\n",
    "# Alpha : class 0\n",
    "# Beta : class 1\n",
    "alpha_freq = iter_freqs[1]\n",
    "raw = mne.io.read_raw_fif(raw_fname)\n",
    "events = mne.find_events(raw, stim_channel='STI 014')\n",
    "raw.pick_types(meg='grad', eeg=True, eog=False)  \n",
    "raw.load_data()\n",
    "\n",
    " # bandpass filter for alpha\n",
    "raw.filter(alpha_freq[1], alpha_freq[2], n_jobs=1,  # use more jobs to speed up.\n",
    "             l_trans_bandwidth=1,  # make sure filter params are the same\n",
    "              h_trans_bandwidth=1)  # in each band and skip \"auto\" option.\n",
    "\n",
    "# epoch with alpha data.\n",
    "epochs_alpha = mne.Epochs(raw, events, event_id, tmin, tmax, baseline=baseline,\n",
    "                        reject=dict(grad=4000e-13),\n",
    "                        preload=True)\n",
    "# remove evoked response\n",
    "epochs_alpha.subtract_evoked()\n",
    "\n",
    "del raw\n",
    "\n",
    "beta_freq = iter_freqs[2]\n",
    "raw = mne.io.read_raw_fif(raw_fname)\n",
    "events = mne.find_events(raw, stim_channel='STI 014')\n",
    "raw.pick_types(meg='grad', eeg=True, eog=False)  \n",
    "raw.load_data()\n",
    "\n",
    "# bandpass filter for beta\n",
    "raw.filter(beta_freq[1], beta_freq[2], n_jobs=1,  # use more jobs to speed up.\n",
    "             l_trans_bandwidth=1,  # make sure filter params are the same\n",
    "              h_trans_bandwidth=1)  # in each band and skip \"auto\" option.\n",
    "\n",
    "# epoch with beta data.\n",
    "epochs_beta = mne.Epochs(raw, events, event_id, tmin, tmax, baseline=baseline,\n",
    "                        reject=dict(grad=4000e-13),\n",
    "                        preload=True)\n",
    "\n",
    "# remove evoked response\n",
    "epochs_beta.subtract_evoked()\n",
    "\n",
    "del raw"
   ]
  },
  {
   "cell_type": "code",
   "execution_count": 6,
   "metadata": {},
   "outputs": [],
   "source": [
    "alpha_data=epochs_alpha.get_data() #[n_epochs, n_channels, n_times]\n",
    "beta_data=epochs_beta.get_data()\n",
    "class0 = np.zeros((alpha_data.shape[0],1))\n",
    "class1 = np.ones((beta_data.shape[0],1))\n",
    "alpha_data=alpha_data.reshape(len(class0), -1)\n",
    "beta_data= beta_data.reshape(len(class1), -1)"
   ]
  },
  {
   "cell_type": "code",
   "execution_count": 9,
   "metadata": {},
   "outputs": [],
   "source": [
    "X = np.concatenate((alpha_data,beta_data), axis= 0)\n",
    "y = np.concatenate((class0, class1), axis =0)\n",
    "X_train, X_test, y_train, y_test = train_test_split(X, y)"
   ]
  },
  {
   "cell_type": "code",
   "execution_count": 13,
   "metadata": {},
   "outputs": [
    {
     "name": "stderr",
     "output_type": "stream",
     "text": [
      "<ipython-input-13-1bbe60eae74b>:1: UserWarning: To copy construct from a tensor, it is recommended to use sourceTensor.clone().detach() or sourceTensor.clone().detach().requires_grad_(True), rather than torch.tensor(sourceTensor).\n",
      "  X_train = torch.tensor(X_train).float()\n",
      "<ipython-input-13-1bbe60eae74b>:2: UserWarning: To copy construct from a tensor, it is recommended to use sourceTensor.clone().detach() or sourceTensor.clone().detach().requires_grad_(True), rather than torch.tensor(sourceTensor).\n",
      "  X_test = torch.tensor(X_test).float()\n",
      "<ipython-input-13-1bbe60eae74b>:3: UserWarning: To copy construct from a tensor, it is recommended to use sourceTensor.clone().detach() or sourceTensor.clone().detach().requires_grad_(True), rather than torch.tensor(sourceTensor).\n",
      "  y_train = torch.tensor(y_train).float()\n"
     ]
    }
   ],
   "source": [
    "X_train = torch.tensor(X_train).float()\n",
    "X_test = torch.tensor(X_test).float()\n",
    "y_train = torch.tensor(y_train).float()"
   ]
  },
  {
   "cell_type": "code",
   "execution_count": 19,
   "metadata": {},
   "outputs": [],
   "source": [
    "# Make CNN Model\n",
    "cnn = nn.Sequential()\n",
    "\n",
    "# Input Layer (Size 226 -> 500)\n",
    "cnn.add_module('Input Linear', nn.Linear(245208, 500))\n",
    "cnn.add_module('Input Activation', nn.CELU()) \n",
    "\n",
    "# Hidden Layer (Size 500 -> 1000)\n",
    "cnn.add_module('Hidden Linear', nn.Linear(500, 1000))\n",
    "cnn.add_module('Hidden Activation', nn.ReLU())\n",
    "\n",
    "# Hidden Layer (Size 1000 -> 100)\n",
    "cnn.add_module('Hidden Linear2', nn.Linear(1000, 100))\n",
    "cnn.add_module('Hidden Activation2', nn.ReLU())\n",
    "\n",
    "# Hidden Layer (Size 100 -> 10)\n",
    "cnn.add_module('Hidden Linear3', nn.Linear(100, 10))\n",
    "cnn.add_module('Hidden Activation3', nn.ReLU())\n",
    "\n",
    "# Output Layer (Size 10 -> 1)\n",
    "cnn.add_module('Output Linear', nn.Linear(10, 1))\n",
    "cnn.add_module('Output Activation', nn.Sigmoid())"
   ]
  },
  {
   "cell_type": "code",
   "execution_count": 20,
   "metadata": {},
   "outputs": [],
   "source": [
    "#TODO: Compare input ar\n",
    "# Define a loss function\n",
    "loss_function = torch.nn.MSELoss()\n",
    "\n",
    "# Define a training procedure\n",
    "def train_network(train_data, actual_class, iterations):\n",
    "\n",
    "  # Keep track of loss at every training iteration\n",
    "  loss_data = []\n",
    "\n",
    "  # Begin training for a certain amount of iterations\n",
    "  for i in range(iterations):\n",
    "\n",
    "    # Begin with a classification\n",
    "    classification = cnn(train_data)\n",
    "\n",
    "    # Find out how wrong the network was\n",
    "    loss = loss_function(classification, actual_class)\n",
    "    loss_data.append(loss)\n",
    "\n",
    "    # Zero out the optimizer gradients every iteration\n",
    "    optimizer.zero_grad()\n",
    "\n",
    "    # Teach the network how to do better next time\n",
    "    loss.backward()\n",
    "    optimizer.step()\n",
    "  \n",
    "  # Plot a nice loss graph at the end of training\n",
    "  rcParams['figure.figsize'] = 10, 5\n",
    "  plt.title(\"Loss vs Iterations\")\n",
    "  plt.plot(list(range(0, len(loss_data))), loss_data)\n",
    "  plt.show()\n"
   ]
  },
  {
   "cell_type": "code",
   "execution_count": 22,
   "metadata": {},
   "outputs": [
    {
     "data": {
      "image/png": "[encoded data removed]",
      "text/plain": [
       "<Figure size 720x360 with 1 Axes>"
      ]
     },
     "metadata": {
      "needs_background": "light"
     },
     "output_type": "display_data"
    }
   ],
   "source": [
    "# Define a learning function, needs to be reinitialized every load\n",
    "optimizer = torch.optim.Adam(cnn.parameters(), lr =1e-3)\n",
    "train_network(X_train, y_train, iterations = 10)"
   ]
  }
 ],
 "metadata": {
  "interpreter": {
   "hash": "aee8b7b246df8f9039afb4144a1f6fd8d2ca17a180786b69acc140d282b71a49"
  },
  "kernelspec": {
   "display_name": "Python 3",
   "language": "python",
   "name": "python3"
  },
  "language_info": {
   "codemirror_mode": {
    "name": "ipython",
    "version": 3
   },
   "file_extension": ".py",
   "mimetype": "text/x-python",
   "name": "python",
   "nbconvert_exporter": "python",
   "pygments_lexer": "ipython3",
   "version": "3.9.4"
  }
 },
 "nbformat": 4,
 "nbformat_minor": 2
}
